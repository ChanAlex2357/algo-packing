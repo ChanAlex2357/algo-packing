{
 "cells": [
  {
   "cell_type": "code",
   "execution_count": null,
   "metadata": {},
   "outputs": [],
   "source": []
  },
  {
   "cell_type": "markdown",
   "metadata": {},
   "source": [
    "## 1D Packing"
   ]
  },
  {
   "cell_type": "markdown",
   "metadata": {},
   "source": [
    "### 1 . Implémenter les trois types d’algorithmes de placement dans la section précédente."
   ]
  },
  {
   "cell_type": "markdown",
   "metadata": {},
   "source": [
    "### 1.1 FIRST FIT (FF)"
   ]
  },
  {
   "cell_type": "markdown",
   "metadata": {},
   "source": [
    "### 1.2 BEST FIT (BF)"
   ]
  },
  {
   "cell_type": "markdown",
   "metadata": {},
   "source": [
    "### 1.3 WORST FIT (WF)"
   ]
  },
  {
   "cell_type": "code",
   "execution_count": null,
   "metadata": {},
   "outputs": [],
   "source": [
    "import Packing1D as p1d\n",
    "from objects.PackingObject1D import PackingObject1D"
   ]
  },
  {
   "cell_type": "code",
   "execution_count": null,
   "metadata": {},
   "outputs": [
    {
     "name": "stdout",
     "output_type": "stream",
     "text": [
      " W:9 | H:9 | NumBac:1 \n",
      "\n",
      " W:7 | H:7 | NumBac:2 \n",
      "\n",
      " W:6 | H:6 | NumBac:2 \n",
      "\n",
      " W:5 | H:5 | NumBac:1 \n",
      "\n",
      " W:4 | H:4 | NumBac:3 \n",
      "\n",
      " W:3 | H:3 | NumBac:3 \n",
      "\n",
      " W:1 | H:1 | NumBac:3 \n",
      "\n"
     ]
    }
   ],
   "source": [
    "# Data\n",
    "objects = []\n",
    "objects.append( PackingObject1D(5) )\n",
    "objects.append( PackingObject1D(9) )\n",
    "objects.append( PackingObject1D(3) )\n",
    "objects.append( PackingObject1D(6) )\n",
    "objects.append( PackingObject1D(4) )\n",
    "objects.append( PackingObject1D(7) )\n",
    "objects.append( PackingObject1D(1) )\n",
    "# objects = sorted(objects,key=lambda obj: obj.get_size() , reverse=True)\n",
    "# Worst Fit\n",
    "bacs = p1d.worst_fit(15,objects)\n",
    "\n",
    "for obj in objects:\n",
    "    print(obj)"
   ]
  },
  {
   "cell_type": "markdown",
   "metadata": {},
   "source": [
    "### 2. Pour chaque algorithme de placement énoncé ci-dessus, trouver un exemple de données d’entrées pour lequel l’algorithme ne donne pas la solution optimale c’est-à-dire il utilise plus de bac que nécessaire"
   ]
  },
  {
   "cell_type": "markdown",
   "metadata": {},
   "source": [
    "### 1.1 FIRST FIT (FF)"
   ]
  },
  {
   "cell_type": "markdown",
   "metadata": {},
   "source": [
    "### 1.2 BEST FIT (BF)"
   ]
  },
  {
   "cell_type": "markdown",
   "metadata": {},
   "source": [
    "### 1.3 WORST FIT (WF)"
   ]
  },
  {
   "cell_type": "markdown",
   "metadata": {},
   "source": [
    "????"
   ]
  },
  {
   "cell_type": "markdown",
   "metadata": {},
   "source": [
    "### 3. Trouver un algorithme brute force (essayer toutes les possibilités) pour résoudre le problème de 1D Packing"
   ]
  },
  {
   "cell_type": "code",
   "execution_count": null,
   "metadata": {},
   "outputs": [],
   "source": []
  },
  {
   "cell_type": "code",
   "execution_count": null,
   "metadata": {},
   "outputs": [
    {
     "name": "stdout",
     "output_type": "stream",
     "text": [
      "Brute force\n"
     ]
    }
   ],
   "source": [
    "p1d.brute_force(15,objects)"
   ]
  },
  {
   "cell_type": "markdown",
   "metadata": {},
   "source": [
    "## 2D Packing"
   ]
  },
  {
   "cell_type": "markdown",
   "metadata": {},
   "source": [
    "### 1. Renseignez-vous sur les trois types d'algorithmes de placement dans la section precedente"
   ]
  },
  {
   "cell_type": "markdown",
   "metadata": {},
   "source": [
    "### 2. Implementer ces trois algorithmes utiliser un interface graphique pour saisir les entrees "
   ]
  },
  {
   "cell_type": "markdown",
   "metadata": {},
   "source": [
    "### 2.1 Next-Fit-Decreasing-Height (NFDH)"
   ]
  },
  {
   "cell_type": "code",
   "execution_count": null,
   "metadata": {},
   "outputs": [],
   "source": []
  },
  {
   "cell_type": "markdown",
   "metadata": {},
   "source": [
    "### 2.2 Best-Fit (BF)"
   ]
  },
  {
   "cell_type": "code",
   "execution_count": null,
   "metadata": {},
   "outputs": [],
   "source": []
  },
  {
   "cell_type": "markdown",
   "metadata": {},
   "source": [
    "### 2.3 First-Fit_Decreasing-Height (FFDH)"
   ]
  },
  {
   "cell_type": "code",
   "execution_count": null,
   "metadata": {},
   "outputs": [],
   "source": []
  },
  {
   "cell_type": "markdown",
   "metadata": {},
   "source": [
    "### 3. Pour chaque algorithme de placement énoncé ci-dessus, trouver un exemple de données d’entrées pour lequel l’algorithme ne donne pas la solution optimale c’est-à-dire il utilise plus de bac que nécessaire"
   ]
  },
  {
   "cell_type": "markdown",
   "metadata": {},
   "source": [
    "### 4. Trouver un algoritme de brute force"
   ]
  },
  {
   "cell_type": "markdown",
   "metadata": {},
   "source": [
    "### 5. Et si on atorise les rotations de pi/2 radians, qu'est-ce qui change ? Implementer une solution amelioree de la question precedente en autorisant les rotations de pi/2 radians des rectangles"
   ]
  }
 ],
 "metadata": {
  "kernelspec": {
   "display_name": "Python 3",
   "language": "python",
   "name": "python3"
  },
  "language_info": {
   "codemirror_mode": {
    "name": "ipython",
    "version": 3
   },
   "file_extension": ".py",
   "mimetype": "text/x-python",
   "name": "python",
   "nbconvert_exporter": "python",
   "pygments_lexer": "ipython3",
   "version": "3.11.2"
  }
 },
 "nbformat": 4,
 "nbformat_minor": 2
}
