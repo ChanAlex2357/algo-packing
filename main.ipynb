{
 "cells": [
  {
   "cell_type": "code",
   "execution_count": null,
   "metadata": {},
   "outputs": [],
   "source": [
    "from bacs.Rectangle2D  import Rectangle2D\n",
    "from objects.PackingObject1D import PackingObject1D\n",
    "from objects.PackingObject2D import PackingObject2D\n",
    "import Packing1D as p1d\n",
    "import Packing2D as p2d"
   ]
  },
  {
   "cell_type": "markdown",
   "metadata": {},
   "source": [
    "## 1D Packing"
   ]
  },
  {
   "cell_type": "markdown",
   "metadata": {},
   "source": [
    "### 1 . Implémenter les trois types d’algorithmes de placement dans la section précédente."
   ]
  },
  {
   "cell_type": "markdown",
   "metadata": {},
   "source": [
    "### 1.1 FIRST FIT (FF)"
   ]
  },
  {
   "cell_type": "markdown",
   "metadata": {},
   "source": [
    "### 1.2 BEST FIT (BF)"
   ]
  },
  {
   "cell_type": "markdown",
   "metadata": {},
   "source": [
    "### 1.3 WORST FIT (WF)"
   ]
  },
  {
   "cell_type": "code",
   "execution_count": null,
   "metadata": {},
   "outputs": [],
   "source": [
    "# Data\n",
    "objects = []\n",
    "objects.append( PackingObject1D(5) )\n",
    "objects.append( PackingObject1D(9) )\n",
    "objects.append( PackingObject1D(3) )\n",
    "objects.append( PackingObject1D(6) )\n",
    "objects.append( PackingObject1D(4) )\n",
    "objects.append( PackingObject1D(7) )\n",
    "objects.append( PackingObject1D(1) )\n",
    "# objects = sorted(objects,key=lambda obj: obj.get_size() , reverse=True)\n",
    "# Worst Fit\n",
    "bacs = p1d.worst_fit(15,objects)\n",
    "\n",
    "for obj in objects:\n",
    "    print(obj)"
   ]
  },
  {
   "cell_type": "markdown",
   "metadata": {},
   "source": [
    "### 2. Pour chaque algorithme de placement énoncé ci-dessus, trouver un exemple de données d’entrées pour lequel l’algorithme ne donne pas la solution optimale c’est-à-dire il utilise plus de bac que nécessaire"
   ]
  },
  {
   "cell_type": "markdown",
   "metadata": {},
   "source": [
    "### 1.1 FIRST FIT (FF)"
   ]
  },
  {
   "cell_type": "markdown",
   "metadata": {},
   "source": [
    "### 1.2 BEST FIT (BF)"
   ]
  },
  {
   "cell_type": "markdown",
   "metadata": {},
   "source": [
    "### 1.3 WORST FIT (WF)"
   ]
  },
  {
   "cell_type": "markdown",
   "metadata": {},
   "source": [
    "????"
   ]
  },
  {
   "cell_type": "markdown",
   "metadata": {},
   "source": [
    "### 3. Trouver un algorithme brute force (essayer toutes les possibilités) pour résoudre le problème de 1D Packing"
   ]
  },
  {
   "cell_type": "code",
   "execution_count": null,
   "metadata": {},
   "outputs": [],
   "source": [
    "bacs = p1d.brute_force(15,objects)\n",
    "for obj in objects:\n",
    "    print(obj)"
   ]
  },
  {
   "cell_type": "markdown",
   "metadata": {},
   "source": [
    "## 2D Packing"
   ]
  },
  {
   "cell_type": "markdown",
   "metadata": {},
   "source": [
    "### 1. Renseignez-vous sur les trois types d'algorithmes de placement dans la section precedente"
   ]
  },
  {
   "cell_type": "markdown",
   "metadata": {},
   "source": [
    "### 2. Implementer ces trois algorithmes utiliser un interface graphique pour saisir les entrees "
   ]
  },
  {
   "cell_type": "markdown",
   "metadata": {},
   "source": [
    "### 2.1 Next-Fit-Decreasing-Height (NFDH)"
   ]
  },
  {
   "cell_type": "code",
   "execution_count": null,
   "metadata": {},
   "outputs": [],
   "source": [
    "# Création d'objets de test\n",
    "objects = [\n",
    "    PackingObject2D(100, 200),\n",
    "    PackingObject2D(200, 150),\n",
    "    PackingObject2D(150, 300),\n",
    "    PackingObject2D(120, 180),\n",
    "    PackingObject2D(300, 100)\n",
    "]\n",
    "\n",
    "# Exécution de l'algorithme NFDH\n",
    "rectangle = Rectangle2D(50, 50, 100, 450)\n",
    "packed_objects = p2d.next_fit_decreasing_height(objects, rectangle)\n",
    "\n",
    "# Affichage des coordonnées des objets après packing\n",
    "for obj in packed_objects:\n",
    "    print(f\"Object at coordinates: {obj.get_coordinate()} with size ({obj.get_width()}x{obj.get_height()})\")"
   ]
  },
  {
   "cell_type": "markdown",
   "metadata": {},
   "source": [
    "### 2.2 Best-Fit (BF)"
   ]
  },
  {
   "cell_type": "code",
   "execution_count": null,
   "metadata": {},
   "outputs": [],
   "source": [
    "objects = [\n",
    "    PackingObject2D(100, 200),\n",
    "    PackingObject2D(200, 150),\n",
    "    PackingObject2D(150, 300),\n",
    "    PackingObject2D(120, 180),\n",
    "    PackingObject2D(300, 100)\n",
    "]\n",
    "\n",
    "\n",
    "rectangle = Rectangle2D(0,0,300,500)\n",
    "bacs = p2d.best_fit(objects,rectangle)\n",
    "\n",
    "# Affichage des coordonnées des objets après packing\n",
    "for obj in rectangle.get_objects():\n",
    "    print(f\"Object at coordinates: {obj.get_coordinate()} with size ({obj.get_width()}x{obj.get_height()})\")"
   ]
  },
  {
   "cell_type": "markdown",
   "metadata": {},
   "source": [
    "### 2.3 First-Fit_Decreasing-Height (FFDH)"
   ]
  },
  {
   "cell_type": "code",
   "execution_count": null,
   "metadata": {},
   "outputs": [],
   "source": [
    "objects = [\n",
    "    PackingObject2D(100, 200),\n",
    "    PackingObject2D(200, 150),\n",
    "    PackingObject2D(150, 300),\n",
    "    PackingObject2D(120, 180),\n",
    "    PackingObject2D(300, 100)\n",
    "]\n",
    "\n",
    "\n",
    "rectangle = Rectangle2D(0,0,400,720)\n",
    "bacs = p2d.first_fit_decreasing_height(objects,rectangle)\n",
    "\n",
    "# Affichage des coordonnées des objets après packing\n",
    "for obj in objects:\n",
    "    print(f\"[{obj.get_numbac()}]Object at coordinates: {obj.get_coordinate()} with size ({obj.get_width()}x{obj.get_height()})\")"
   ]
  },
  {
   "cell_type": "markdown",
   "metadata": {},
   "source": [
    "### 3. Pour chaque algorithme de placement énoncé ci-dessus, trouver un exemple de données d’entrées pour lequel l’algorithme ne donne pas la solution optimale c’est-à-dire il utilise plus de bac que nécessaire"
   ]
  },
  {
   "cell_type": "markdown",
   "metadata": {},
   "source": [
    "### 4. Trouver un algoritme de brute force"
   ]
  },
  {
   "cell_type": "markdown",
   "metadata": {},
   "source": [
    "### 5. Et si on atorise les rotations de pi/2 radians, qu'est-ce qui change ? Implementer une solution amelioree de la question precedente en autorisant les rotations de pi/2 radians des rectangles"
   ]
  }
 ],
 "metadata": {
  "kernelspec": {
   "display_name": "Python 3",
   "language": "python",
   "name": "python3"
  },
  "language_info": {
   "codemirror_mode": {
    "name": "ipython",
    "version": 3
   },
   "file_extension": ".py",
   "mimetype": "text/x-python",
   "name": "python",
   "nbconvert_exporter": "python",
   "pygments_lexer": "ipython3",
   "version": "3.10.12"
  }
 },
 "nbformat": 4,
 "nbformat_minor": 2
}
