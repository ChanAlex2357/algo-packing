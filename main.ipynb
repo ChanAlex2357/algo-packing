{
 "cells": [
  {
   "cell_type": "code",
   "execution_count": null,
   "metadata": {},
   "outputs": [],
   "source": []
  },
  {
   "cell_type": "markdown",
   "metadata": {},
   "source": [
    "## 1D Packing"
   ]
  },
  {
   "cell_type": "markdown",
   "metadata": {},
   "source": [
    "### 1 . Implémenter les trois types d’algorithmes de placement dans la section précédente."
   ]
  },
  {
   "cell_type": "markdown",
   "metadata": {},
   "source": [
    "### 1.1 FIRST FIT (FF)"
   ]
  },
  {
   "cell_type": "markdown",
   "metadata": {},
   "source": [
    "### 1.3 BEST FIT (BF)"
   ]
  },
  {
   "cell_type": "markdown",
   "metadata": {},
   "source": [
    "### 1.3 WORST FIT (WF)"
   ]
  },
  {
   "cell_type": "code",
   "execution_count": 1,
   "metadata": {},
   "outputs": [],
   "source": [
    "import Packing1D as p1d\n",
    "from objects.PackingObject1D import PackingObject1D"
   ]
  },
  {
   "cell_type": "code",
   "execution_count": 2,
   "metadata": {},
   "outputs": [
    {
     "name": "stdout",
     "output_type": "stream",
     "text": [
      "Worst fit\n",
      " W:5 | H:5 | NumBac:1 \n",
      "\n",
      " W:9 | H:9 | NumBac:1 \n",
      "\n",
      " W:3 | H:3 | NumBac:2 \n",
      "\n",
      " W:6 | H:6 | NumBac:2 \n",
      "\n",
      " W:4 | H:4 | NumBac:2 \n",
      "\n",
      " W:7 | H:7 | NumBac:3 \n",
      "\n",
      " W:1 | H:1 | NumBac:3 \n",
      "\n",
      "[<bacs.Bac1D.Bac1D object at 0x00000115E69051D0>, <bacs.Bac1D.Bac1D object at 0x00000115E6905350>, <bacs.Bac1D.Bac1D object at 0x00000115E6854690>]\n"
     ]
    }
   ],
   "source": [
    "# Data\n",
    "objects = []\n",
    "objects.append( PackingObject1D(5) )\n",
    "objects.append( PackingObject1D(9) )\n",
    "objects.append( PackingObject1D(3) )\n",
    "objects.append( PackingObject1D(6) )\n",
    "objects.append( PackingObject1D(4) )\n",
    "objects.append( PackingObject1D(7) )\n",
    "objects.append( PackingObject1D(1) )\n",
    "\n",
    "# Worst Fit\n",
    "bacs = p1d.worstFit1D(15,objects)\n",
    "\n",
    "for obj in objects:\n",
    "    print(obj)"
   ]
  },
  {
   "cell_type": "markdown",
   "metadata": {},
   "source": []
  },
  {
   "cell_type": "markdown",
   "metadata": {},
   "source": []
  },
  {
   "cell_type": "markdown",
   "metadata": {},
   "source": [
    "## 2D Packing"
   ]
  },
  {
   "cell_type": "code",
   "execution_count": null,
   "metadata": {},
   "outputs": [],
   "source": []
  }
 ],
 "metadata": {
  "kernelspec": {
   "display_name": "Python 3",
   "language": "python",
   "name": "python3"
  },
  "language_info": {
   "codemirror_mode": {
    "name": "ipython",
    "version": 3
   },
   "file_extension": ".py",
   "mimetype": "text/x-python",
   "name": "python",
   "nbconvert_exporter": "python",
   "pygments_lexer": "ipython3",
   "version": "3.11.2"
  }
 },
 "nbformat": 4,
 "nbformat_minor": 2
}
